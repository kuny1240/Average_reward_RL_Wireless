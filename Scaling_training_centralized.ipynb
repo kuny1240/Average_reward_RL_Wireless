{
 "cells": [
  {
   "cell_type": "markdown",
   "metadata": {},
   "source": [
    "## Initialization"
   ]
  },
  {
   "cell_type": "markdown",
   "metadata": {},
   "source": [
    "### Import packages"
   ]
  },
  {
   "cell_type": "code",
   "execution_count": 1,
   "metadata": {},
   "outputs": [],
   "source": [
    "%load_ext autoreload\n",
    "%autoreload 2"
   ]
  },
  {
   "cell_type": "code",
   "execution_count": 2,
   "metadata": {},
   "outputs": [],
   "source": [
    "import time\n",
    "import torch\n",
    "import random\n",
    "import numpy as np\n",
    "import pickle\n",
    "import torch.nn.functional as F\n",
    "from copy import deepcopy\n",
    "from multiprocessing import Pool\n",
    "from tqdm.notebook import tqdm\n",
    "\n",
    "#from ENV import KYenv\n",
    "from ENV import DHenv as Env\n",
    "from DRQN_controller import DRQN_Agent\n",
    "from DRQN_learner import QLearner\n",
    "from DRQN_agent import decode_act,get_decay\n",
    "\n",
    "import matplotlib.pyplot as plt"
   ]
  },
  {
   "cell_type": "markdown",
   "metadata": {},
   "source": [
    "### Initiliaze environments"
   ]
  },
  {
   "cell_type": "code",
   "execution_count": 3,
   "metadata": {},
   "outputs": [],
   "source": [
    "test_ues = torch.tensor([[ 2.3219, 35.5963],\n",
    "        [ 4.9058,  7.3772],\n",
    "        [34.1434, 24.6237],\n",
    "        [30.3456, 22.6246],\n",
    "        [26.9648, 20.9890],\n",
    "        [19.2420, 32.8353],\n",
    "        [12.3929, 39.7321],\n",
    "        [ 5.9339, 29.5289],\n",
    "        [33.2905, 37.5042],\n",
    "        [ 9.2728, 15.3940]])\n",
    "\n",
    "test_env = Env(border=torch.Tensor([40, 40]),\n",
    "          enbs = torch.Tensor([[10, 10, 10],\n",
    "                               [10, 30, 10],\n",
    "                               [10, 10, 30],\n",
    "                               [10, 30, 30]]),\n",
    "          ues = test_ues,\n",
    "          noise = 10**(-11.5),\n",
    "          rw = 0.02\n",
    "          )"
   ]
  },
  {
   "cell_type": "code",
   "execution_count": 3,
   "metadata": {},
   "outputs": [],
   "source": [
    "def set_seed(seed):\n",
    "    random.seed(seed)\n",
    "    np.random.seed(seed)\n",
    "    torch.manual_seed(seed)"
   ]
  },
  {
   "cell_type": "code",
   "execution_count": 5,
   "metadata": {},
   "outputs": [],
   "source": [
    "def set_seed(seed):\n",
    "    random.seed(seed)\n",
    "    np.random.seed(seed)\n",
    "    torch.manual_seed(seed)\n",
    "\n",
    "\n",
    "def gen_env(seed, enb_num, ue_num, min_dis):\n",
    "    \n",
    "#     breakpoint()\n",
    "    set_seed(seed)\n",
    "    bound_len = np.sqrt(400 * enb_num).astype(int)\n",
    "    min_dis = int(bound_len / 4)\n",
    "    enb_pos = torch.zeros(enb_num, 2) - 100\n",
    "    for i in range(enb_num):\n",
    "        while True:\n",
    "            cur_pos = torch.rand(1, 2) * torch.Tensor([bound_len,bound_len])\n",
    "            dists = torch.sqrt(torch.sum((enb_pos - cur_pos)**2, axis = 1))\n",
    "#             breakpoint()\n",
    "            if (dists > min_dis).all():\n",
    "                enb_pos[i] = cur_pos\n",
    "                break\n",
    "    ues_pos = torch.rand(ue_num, 2) * torch.Tensor([bound_len, bound_len])\n",
    "    enbs = torch.hstack([torch.zeros(enb_num,1) + 10, enb_pos])\n",
    "#     breakpoint()\n",
    "    env = Env(border=torch.Tensor([bound_len, bound_len]),\n",
    "          enbs = enbs,\n",
    "          ues = ues_pos,\n",
    "          noise = 10**(-11.5),\n",
    "          rw = 0.02\n",
    "          )\n",
    "    return env\n",
    "\n",
    "# random seeds: 0, 10, 20\n",
    "# Env settings: \n",
    "# 5, 12\n",
    "# 6, 15\n",
    "# 7, 18\n",
    "# 8, 20\n",
    "# 9, 23\n",
    "# 10, 25\n",
    "\n"
   ]
  },
  {
   "cell_type": "code",
   "execution_count": 4,
   "metadata": {},
   "outputs": [
    {
     "data": {
      "application/vnd.jupyter.widget-view+json": {
       "model_id": "59b0b39cfe5b4ca39601ad3c43ba9c99",
       "version_major": 2,
       "version_minor": 0
      },
      "text/plain": [
       "  0%|          | 0/100 [00:00<?, ?it/s]"
      ]
     },
     "metadata": {},
     "output_type": "display_data"
    }
   ],
   "source": [
    "envs = []\n",
    "\n",
    "\n",
    "for s in tqdm(range(100)):\n",
    "    set_seed(s)\n",
    "#     t_aps = torch.rand(k)\n",
    "    t_ues = torch.rand(10, 2) * torch.Tensor([40, 40])\n",
    "    env = Env(border=torch.Tensor([40, 40]),\n",
    "          enbs = torch.Tensor([[10, 10, 10],\n",
    "                               [10, 30, 10],\n",
    "                               [10, 10, 30],\n",
    "                               [10, 30, 30]]),\n",
    "          ues = t_ues,\n",
    "          noise = 10**(-11.5),\n",
    "          rw = 0.02\n",
    "          )\n",
    "    envs.append(env)"
   ]
  },
  {
   "cell_type": "code",
   "execution_count": 9,
   "metadata": {},
   "outputs": [
    {
     "data": {
      "image/png": "[encoded data removed]",
      "text/plain": [
       "<Figure size 1000x1000 with 1 Axes>"
      ]
     },
     "metadata": {
      "needs_background": "light"
     },
     "output_type": "display_data"
    }
   ],
   "source": [
    "def draw(env, size_on=True, serve_on=True, save_dir = None):\n",
    "        # draw UEs position\n",
    "    plt.figure(dpi=100, figsize=[10, 10])\n",
    "    plt.xlim(0, env.border[0])\n",
    "    plt.ylim(0, env.border[1])\n",
    "    t_ues = env.ues_pos\n",
    "    if size_on:\n",
    "        t_size = env.MA_rate.numpy()\n",
    "    else:\n",
    "        t_size = 5\n",
    "\n",
    "#     print(t_size.shape, t_ues.shape)\n",
    "\n",
    "    plt.scatter(t_ues[:, 0], t_ues[:, 1], s = np.transpose(t_size * 100))\n",
    "\n",
    "    if serve_on:\n",
    "       plt.scatter(env.enbs_pos[:,0],env.enbs_pos[:,1],marker=\"x\",s = 200)\n",
    "    if save_dir != None:\n",
    "        \n",
    "        plt.savefig(save_dir)\n",
    "    \n",
    "    plt.show()\n",
    "    \n",
    "    \n",
    "draw(envs[22],False, True, \"./results/bad_env.png\")"
   ]
  },
  {
   "cell_type": "code",
   "execution_count": null,
   "metadata": {},
   "outputs": [],
   "source": []
  },
  {
   "cell_type": "code",
   "execution_count": 48,
   "metadata": {},
   "outputs": [
    {
     "data": {
      "text/plain": [
       "torch.Size([160])"
      ]
     },
     "execution_count": 48,
     "metadata": {},
     "output_type": "execute_result"
    }
   ],
   "source": [
    "obs = []\n",
    "for j in range(env.n_enbs):\n",
    "    obs.append(env.get_agent_obs(j))\n",
    "obs = torch.stack(obs, dim=0)\n",
    "obs = torch.flatten(obs)\n",
    "obs.shape"
   ]
  },
  {
   "cell_type": "markdown",
   "metadata": {},
   "source": [
    "### Initialize models"
   ]
  },
  {
   "cell_type": "code",
   "execution_count": 6,
   "metadata": {},
   "outputs": [],
   "source": [
    "\n",
    "# enable cuda in training\n",
    "cuda_flag = True\n",
    "map_dict = {\n",
    "    5: 12,\n",
    "    6: 15,\n",
    "    7: 18,\n",
    "    8: 20,\n",
    "    9: 23,\n",
    "    10: 25,\n",
    "\n",
    "}\n",
    "n = 9\n",
    "seed = 10\n",
    "n_ue = map_dict[n]\n",
    "inter_file_name = f'AP{n}UE{n_ue}Act5_Seed{seed}_Individual.pkl'\n",
    "env = gen_env(seed, n, n_ue, 10)\n",
    "num_obs = 16 * n\n",
    "num_acts = 5 ** n\n",
    "# initialize learner\n",
    "controller = DRQN_Agent(input_shape=num_obs, n_actions=num_acts) #n_actions = 6 * 5, input_shape = 11\n",
    "controller.save('models/' + inter_file_name)\n",
    "controller.cuda()\n",
    "meta_controller = deepcopy(controller)\n",
    "learner = QLearner(controller,device=\"cuda\",batch_size=8,num_feats=num_obs)\n",
    "if cuda_flag:\n",
    "    learner.cuda()\n",
    "\n",
    "# initialize test learner\n",
    "test_controller = DRQN_Agent(input_shape=num_obs, n_actions=num_acts) #n_actions = 6 * 5, input_shape = 11\n",
    "test_controller.load('models/' + inter_file_name)\n",
    "test_controller.cuda()\n",
    "test_controller.init_hidden(batch_size=1)\n",
    "\n",
    "\n",
    "reward = 0"
   ]
  },
  {
   "cell_type": "markdown",
   "metadata": {},
   "source": [
    "### Training"
   ]
  },
  {
   "cell_type": "code",
   "execution_count": null,
   "metadata": {},
   "outputs": [
    {
     "data": {
      "application/vnd.jupyter.widget-view+json": {
       "model_id": "80576ad1c5e14d12866ec083a41f83e0",
       "version_major": 2,
       "version_minor": 0
      },
      "text/plain": [
       "  0%|          | 0/300 [00:00<?, ?it/s]"
      ]
     },
     "metadata": {},
     "output_type": "display_data"
    },
    {
     "name": "stderr",
     "output_type": "stream",
     "text": [
      "/usr/local/lib/python3.8/site-packages/numpy/core/fromnumeric.py:3419: RuntimeWarning: Mean of empty slice.\n",
      "  return _methods._mean(a, axis=axis, dtype=dtype,\n",
      "/usr/local/lib/python3.8/site-packages/numpy/core/_methods.py:188: RuntimeWarning: invalid value encountered in double_scalars\n",
      "  ret = ret.dtype.type(ret / rcount)\n"
     ]
    },
    {
     "name": "stdout",
     "output_type": "stream",
     "text": [
      "Current best 17.96 at iteration 11! Saving.... \n",
      "Current best 17.97 at iteration 12! Saving.... \n",
      "Current best 18.00 at iteration 13! Saving.... \n",
      "Current best 18.00 at iteration 17! Saving.... \n",
      "Current best 18.00 at iteration 20! Saving.... \n",
      "Current best 18.00 at iteration 32! Saving.... \n"
     ]
    }
   ],
   "source": [
    "# Defining hyperparams\n",
    "niterations = 300\n",
    "max_inner_iter = 64\n",
    "max_test_iter = 500\n",
    "outerstepsize0 = 1\n",
    "k = 0\n",
    "results_dict = {\"loss\": None,\n",
    "               \"reward\": None}\n",
    "best = 0\n",
    "gamma = 0.98\n",
    "set_seed(15)\n",
    "r_history, loss_history = [], []\n",
    "lr = 5e-4\n",
    "learner.set_sgd(lr)\n",
    "pbar = tqdm(range(niterations))\n",
    "r_history, loss_history = [], []\n",
    "for iteration in pbar:\n",
    "    env.reset()\n",
    "    inner_step = 0\n",
    "    if (iteration + 1) % 100 == 0:\n",
    "        lr = lr/2\n",
    "        learner.set_sgd(lr)\n",
    "    losses = []\n",
    "    torch.cuda.empty_cache()\n",
    "    \n",
    "    for inner_iter in range(max_inner_iter):\n",
    "        total_step = max_inner_iter * iteration + inner_iter\n",
    "#         inner_step += 1\n",
    "        obs = []\n",
    "#         breakpoint()\n",
    "        for j in range(env.n_enbs):\n",
    "            obs.append(env.get_agent_obs(j))\n",
    "        obs = torch.stack(obs, dim=0)\n",
    "        obs = torch.flatten(obs)\n",
    "#         breakpoint()\n",
    "        cur_obs = obs.reshape(1,num_obs).cuda()\n",
    "        controller.init_hidden(1)\n",
    "        action,q = controller.get_action(cur_obs, 0.3 * (1-iteration/niterations))\n",
    "        act = decode_act(action,n,5)\n",
    "        s_t1,r = env.step(act)\n",
    "        s_t1 = torch.flatten(s_t1)\n",
    "        controller.init_hidden(512)\n",
    "#         breakpoint()\n",
    "        loss, grad = learner.train(obs.numpy(), action,\n",
    "                                   r.item(), s_t1.numpy(), total_step)\n",
    "        if loss is not None:\n",
    "            losses.append(loss.item())\n",
    "        \n",
    "    learner._update_targets()\n",
    "    # Save the results\n",
    "    if losses != []:\n",
    "        loss_history.append(np.mean(losses))\n",
    "    # save and update the test controller\n",
    "#     controller.save('models/' + inter_file_name)\n",
    "    test_controller.load_state(controller)\n",
    "    env.reset()\n",
    "    reward = 0\n",
    "    for test_iter in range(max_test_iter):\n",
    "        obs = []\n",
    "        for j in range(env.n_enbs):\n",
    "            obs.append(env.get_agent_obs(j))\n",
    "#         breakpoint()\n",
    "        obs = torch.stack(obs, dim=0)\n",
    "        obs = torch.flatten(obs)\n",
    "        action,_ = test_controller.get_action(\n",
    "            torch.reshape(obs,(1,num_obs)).cuda(), 0.0)\n",
    "        act = decode_act(action, n, 5)\n",
    "        s_t1,r = env.step(act)\n",
    "        reward += (1 - gamma) * (r - reward)\n",
    "    r_history.append(reward.item())\n",
    "    pbar.set_description(f\"Env:{k}|Iteration:{iteration}|loss:{np.mean(losses):.2f}|reward:{reward.item():.2f}\")\n",
    "    if reward.item() > best and iteration > 10:\n",
    "        best = reward.item()\n",
    "        print(f\"Current best {best:.2f} at iteration {iteration}! Saving.... \")\n",
    "        test_controller.save(f\"./models/drqn_best_centralized{n}_env{seed}.pkl\")\n",
    "    if (iteration + 1) % 50 == 0:\n",
    "        plt.plot(r_history)\n",
    "        plt.show()\n",
    "\n",
    "        plt.plot(loss_history)\n",
    "        plt.show()\n",
    "        results_dict[\"loss\"] = loss_history\n",
    "        results_dict[\"reward\"] = r_history\n",
    "        with open(f\"./results/env_{seed}_centralized_{n}_results.pkl\", \"wb\") as file:\n",
    "            pickle.dump(results_dict, file)\n",
    "        "
   ]
  },
  {
   "cell_type": "code",
   "execution_count": 13,
   "metadata": {},
   "outputs": [
    {
     "name": "stdout",
     "output_type": "stream",
     "text": [
      "tensor(41.3769)\n",
      "tensor(40.9016)\n"
     ]
    }
   ],
   "source": [
    "# heuristic test\n",
    "\n",
    "gamma = 0.98\n",
    "\n",
    "rl = []\n",
    "\n",
    "pos = torch.tensor([[0.25, 0.25], [0.75, 0.25], [0.25, 0.75], [0.75, 0.75]])\n",
    "\n",
    "c = 0\n",
    "c0 = 0\n",
    "\n",
    "for _ in range(2):\n",
    "    obs = env.reset()\n",
    "    r = 0\n",
    "\n",
    "    for t in range(500):\n",
    "        # 4, 5, 3\n",
    "        action = []\n",
    "        for i in range(n):\n",
    "            temp = obs[i]\n",
    "            dis = ((temp[:, 1:3])**2).sum(-1)\n",
    "            inds = torch.argsort(dis)\n",
    "            for j in inds:\n",
    "                if temp[j, -1] < 3.:\n",
    "                    break\n",
    "            if temp[j, -1] >= 3.:\n",
    "                j = torch.tensor(5)\n",
    "            action.append(j.view(1))\n",
    "        action = torch.cat(action)\n",
    "\n",
    "        obs, reward = env.step(action)\n",
    "        r += (1 - gamma) * (reward - r)\n",
    "        #print(r)\n",
    "        \n",
    "        c += 1\n",
    "        plan = torch.tensor(env.plan).tolist()\n",
    "        if len(plan) == len(set(plan)):\n",
    "            c0 += 1\n",
    "    print(r)\n",
    "    rl.append(r)"
   ]
  },
  {
   "cell_type": "code",
   "execution_count": 14,
   "metadata": {},
   "outputs": [
    {
     "data": {
      "image/png": "[encoded data removed]",
      "text/plain": [
       "<Figure size 432x288 with 1 Axes>"
      ]
     },
     "metadata": {
      "needs_background": "light"
     },
     "output_type": "display_data"
    }
   ],
   "source": [
    "centralized_dist = []\n",
    "heuristic = []\n",
    "env_num = [4,5,6,7,8,9]\n",
    "\n",
    "dict_heu = {\n",
    "    4:[14.48, 16.50, 22.12],\n",
    "    5:[12.3, 22.9, 23.5],\n",
    "    6:[22.00, 21.53, 28.90],\n",
    "    7:[32.6, 25.50, 31.5],\n",
    "    8:[33.5, 32.6, 35.1],\n",
    "    9:[41.01, 43.49, 45.70]\n",
    "    \n",
    "}\n",
    "\n",
    "dict_cen = {\n",
    "    4:[19.89, 22.51, 23.36],\n",
    "    5:[22.3, 23.07, 24.97],\n",
    "    6:[22.34, 27.70, 29.39],\n",
    "    7:[33.75, 29.71, 31.73],\n",
    "    8:[18.75, 23.15, 19.71],\n",
    "    9:[19.51, 15.19, 25.32]\n",
    "}\n",
    "\n",
    "for k in env_num:\n",
    "    centralized_dist.append(np.mean(dict_cen[k]))\n",
    "    heuristic.append(np.mean(dict_heu[k]))\n",
    "    \n",
    "\n",
    "plt.figure()\n",
    "\n",
    "plt.plot(env_num,centralized_dist,alpha=1,label=\"Centralized_RL\",color=\"r\")\n",
    "plt.plot(env_num,heuristic,alpha=0.3,label=\"Heuristic\",color=\"b\")\n",
    "plt.xlabel(\"Agent#\")\n",
    "plt.ylabel(\"Reward\")\n",
    "plt.legend()\n",
    "plt.show()"
   ]
  },
  {
   "cell_type": "markdown",
   "metadata": {},
   "source": [
    "### Draw results"
   ]
  },
  {
   "cell_type": "code",
   "execution_count": 12,
   "metadata": {},
   "outputs": [
    {
     "data": {
      "text/plain": [
       "21.322568893432617"
      ]
     },
     "execution_count": 12,
     "metadata": {},
     "output_type": "execute_result"
    }
   ],
   "source": [
    "with open(\"./results/env_20_centralized_9_results.pkl\", \"rb\") as file:\n",
    "            result = pickle.load(file)\n",
    "        \n",
    "np.max(result[\"reward\"])"
   ]
  },
  {
   "cell_type": "code",
   "execution_count": 18,
   "metadata": {},
   "outputs": [],
   "source": [
    "import torch\n",
    "import numpy as np\n",
    "import torch.nn as nn\n",
    "import pickle\n",
    "import os \n",
    "import sys\n",
    "import matplotlib.pyplot as plt"
   ]
  },
  {
   "cell_type": "code",
   "execution_count": 8,
   "metadata": {},
   "outputs": [
    {
     "data": {
      "text/plain": [
       "['./results/env_3_centralized_results.pkl',\n",
       " './results/env_29_centralized_results.pkl',\n",
       " './results/env_0_centralized_5_results.pkl',\n",
       " './results/env_20_centralized_7_results.pkl',\n",
       " './results/env_20_centralized_6_results.pkl',\n",
       " './results/env_5_centralized_results.pkl',\n",
       " './results/env_25_centralized_results.pkl',\n",
       " './results/env_0_centralized5_results.pkl',\n",
       " './results/env_9_centralized_results.pkl',\n",
       " './results/env_22_centralized_results.pkl',\n",
       " './results/env_0_centralized_results.pkl',\n",
       " './results/env_6_centralized_results.pkl',\n",
       " './results/env_10_centralized_7_results.pkl',\n",
       " './results/env_16_centralized_results.pkl',\n",
       " './results/env_0_centralized_6_results.pkl',\n",
       " './results/env_20_centralized_5_results.pkl',\n",
       " './results/env_14_centralized_results.pkl',\n",
       " './results/env_0_centralized_7_results.pkl',\n",
       " './results/env_10_centralized_6_results.pkl']"
      ]
     },
     "execution_count": 8,
     "metadata": {},
     "output_type": "execute_result"
    }
   ],
   "source": [
    "from glob import glob\n",
    "dirs = glob(\"./results/*_results*.pkl\")\n",
    "dirs"
   ]
  },
  {
   "cell_type": "code",
   "execution_count": 9,
   "metadata": {},
   "outputs": [
    {
     "ename": "ValueError",
     "evalue": "operands could not be broadcast together with shapes (250,) (300,) (250,) ",
     "output_type": "error",
     "traceback": [
      "\u001b[0;31m---------------------------------------------------------------------------\u001b[0m",
      "\u001b[0;31mValueError\u001b[0m                                Traceback (most recent call last)",
      "\u001b[0;32m<ipython-input-9-d7a2a29aa4a8>\u001b[0m in \u001b[0;36m<module>\u001b[0;34m\u001b[0m\n\u001b[1;32m     31\u001b[0m         \u001b[0;32melse\u001b[0m\u001b[0;34m:\u001b[0m\u001b[0;34m\u001b[0m\u001b[0;34m\u001b[0m\u001b[0m\n\u001b[1;32m     32\u001b[0m             \u001b[0mr\u001b[0m \u001b[0;34m=\u001b[0m \u001b[0mnp\u001b[0m\u001b[0;34m.\u001b[0m\u001b[0marray\u001b[0m\u001b[0;34m(\u001b[0m\u001b[0mr\u001b[0m\u001b[0;34m)\u001b[0m\u001b[0;34m\u001b[0m\u001b[0;34m\u001b[0m\u001b[0m\n\u001b[0;32m---> 33\u001b[0;31m             \u001b[0mresults\u001b[0m\u001b[0;34m[\u001b[0m\u001b[0mlabel\u001b[0m\u001b[0;34m]\u001b[0m \u001b[0;34m+=\u001b[0m \u001b[0mnp\u001b[0m\u001b[0;34m.\u001b[0m\u001b[0marray\u001b[0m\u001b[0;34m(\u001b[0m\u001b[0mr\u001b[0m\u001b[0;34m)\u001b[0m\u001b[0;34m\u001b[0m\u001b[0;34m\u001b[0m\u001b[0m\n\u001b[0m\u001b[1;32m     34\u001b[0m \u001b[0;34m\u001b[0m\u001b[0m\n\u001b[1;32m     35\u001b[0m \u001b[0mplt\u001b[0m\u001b[0;34m.\u001b[0m\u001b[0mfigure\u001b[0m\u001b[0;34m(\u001b[0m\u001b[0mfigsize\u001b[0m \u001b[0;34m=\u001b[0m \u001b[0;34m(\u001b[0m\u001b[0;36m20\u001b[0m\u001b[0;34m,\u001b[0m\u001b[0;36m10\u001b[0m\u001b[0;34m)\u001b[0m\u001b[0;34m)\u001b[0m\u001b[0;34m\u001b[0m\u001b[0;34m\u001b[0m\u001b[0m\n",
      "\u001b[0;31mValueError\u001b[0m: operands could not be broadcast together with shapes (250,) (300,) (250,) "
     ]
    }
   ],
   "source": [
    "import json\n",
    "import matplotlib\n",
    "from scipy.signal import savgol_filter\n",
    "\n",
    "figure_map= {\n",
    "    \"MARL\":[\"b\", \"-\"],\n",
    "    \"Centralized_RL\":[\"r\",\"-.\"],\n",
    "    \"Heuristic_baseline\":[\"g\",\":\"]\n",
    "    \n",
    "}\n",
    "\n",
    "font = {'weight' : 'bold',\n",
    "        'size'   : 24}\n",
    "\n",
    "results = {}\n",
    "\n",
    "for i,d in enumerate(dirs):\n",
    "#     breakpoint()\n",
    "    d = dirs[i]\n",
    "    label = dirs[i].split(\"_\")[-2]\n",
    "    \n",
    "    \n",
    "    with open(d, \"rb\") as f:\n",
    "#         breakpoint()\n",
    "        res = pickle.load(f)\n",
    "        r = res[\"reward\"]\n",
    "        if label not in results:\n",
    "            results[label] = np.zeros((len(r),))\n",
    "            r = np.array(r)\n",
    "            results[label] += np.array(r)\n",
    "        else:\n",
    "            r = np.array(r)\n",
    "            results[label] += np.array(r)\n",
    "\n",
    "plt.figure(figsize = (20,10))\n",
    "if label == \"centralized\":\n",
    "    label_n = \"Centralized_RL\"\n",
    "plt.plot(savgol_filter(results[label], 21, 1)/len(dirs),c = figure_map[label_n][0],lw=5 ,ls=figure_map[label_n][1], label = label_n)\n",
    "plt.xlabel(\"Training Epochs\", fontsize=24, weight=\"bold\")\n",
    "plt.ylabel(\"Reward\", fontsize=24, weight=\"bold\")\n",
    "matplotlib.rc('font', **font)\n",
    "plt.grid()\n",
    "plt.legend()\n",
    "\n"
   ]
  },
  {
   "cell_type": "code",
   "execution_count": null,
   "metadata": {},
   "outputs": [],
   "source": []
  }
 ],
 "metadata": {
  "kernelspec": {
   "display_name": "PyTorch 1.8.1",
   "language": "python",
   "name": "pytorch-1.8.1"
  },
  "language_info": {
   "codemirror_mode": {
    "name": "ipython",
    "version": 3
   },
   "file_extension": ".py",
   "mimetype": "text/x-python",
   "name": "python",
   "nbconvert_exporter": "python",
   "pygments_lexer": "ipython3",
   "version": "3.8.8"
  }
 },
 "nbformat": 4,
 "nbformat_minor": 4
}
